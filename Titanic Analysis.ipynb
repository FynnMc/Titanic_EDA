{
 "cells": [
  {
   "cell_type": "markdown",
   "metadata": {},
   "source": [
    "# Data Loading and EDA"
   ]
  },
  {
   "cell_type": "code",
   "execution_count": 106,
   "metadata": {},
   "outputs": [],
   "source": [
    "import numpy as np\n",
    "import pandas as pd\n",
    "import seaborn as sns\n",
    "import matplotlib.pyplot as plt\n",
    "import matplotlib.image as mpimg\n",
    "\n",
    "from sklearn.linear_model import LogisticRegression\n",
    "from sklearn.linear_model import Perceptron\n",
    "from sklearn import tree\n",
    "from sklearn.naive_bayes import GaussianNB\n",
    "from sklearn.neighbors import KNeighborsClassifier\n",
    "from sklearn.ensemble import RandomForestClassifier\n",
    "from sklearn.ensemble import ExtraTreesClassifier\n",
    "from sklearn.ensemble import BaggingClassifier\n",
    "from sklearn.ensemble import AdaBoostClassifier\n",
    "from sklearn.ensemble import GradientBoostingClassifier\n",
    "from sklearn.ensemble import VotingClassifier\n",
    "from sklearn import svm\n",
    "\n",
    "from sklearn.model_selection import cross_val_score\n",
    "from sklearn.model_selection import KFold\n",
    "from sklearn.metrics import confusion_matrix\n",
    "from sklearn.model_selection import train_test_split\n",
    "from sklearn.model_selection import GridSearchCV"
   ]
  },
  {
   "cell_type": "code",
   "execution_count": 107,
   "metadata": {},
   "outputs": [
    {
     "data": {
      "image/png": "[encoded data removed]",
      "text/plain": [
       "<Figure size 432x288 with 1 Axes>"
      ]
     },
     "metadata": {},
     "output_type": "display_data"
    }
   ],
   "source": [
    "traindf = pd.read_csv(\"train.csv\")\n",
    "testdf = pd.read_csv(\"test.csv\")\n",
    "\n",
    "y_value = traindf['Survived']\n",
    "\n",
    "# Small amount of class imbalance\n",
    "y_value.value_counts()\n",
    "counts = sns.countplot(y_value)"
   ]
  },
  {
   "cell_type": "code",
   "execution_count": 108,
   "metadata": {},
   "outputs": [
    {
     "data": {
      "text/plain": [
       "<bound method NDFrame.describe of PassengerId    False\n",
       "Survived       False\n",
       "Pclass         False\n",
       "Name           False\n",
       "Sex            False\n",
       "Age             True\n",
       "SibSp          False\n",
       "Parch          False\n",
       "Ticket         False\n",
       "Fare           False\n",
       "Cabin           True\n",
       "Embarked        True\n",
       "dtype: bool>"
      ]
     },
     "execution_count": 108,
     "metadata": {},
     "output_type": "execute_result"
    }
   ],
   "source": [
    "traindf.isnull().any().describe # Age,  Cabin and Embarked : Cabin could be converted to binary, embarked irrelevant, age annoying"
   ]
  },
  {
   "cell_type": "code",
   "execution_count": 109,
   "metadata": {},
   "outputs": [
    {
     "data": {
      "text/plain": [
       "PassengerId      0\n",
       "Survived         0\n",
       "Pclass           0\n",
       "Name             0\n",
       "Sex              0\n",
       "Age            177\n",
       "SibSp            0\n",
       "Parch            0\n",
       "Ticket           0\n",
       "Fare             0\n",
       "Cabin          687\n",
       "Embarked         2\n",
       "dtype: int64"
      ]
     },
     "execution_count": 109,
     "metadata": {},
     "output_type": "execute_result"
    }
   ],
   "source": [
    "traindf.isnull().sum()"
   ]
  },
  {
   "cell_type": "code",
   "execution_count": 110,
   "metadata": {},
   "outputs": [
    {
     "data": {
      "text/html": [
       "<div>\n",
       "<style scoped>\n",
       "    .dataframe tbody tr th:only-of-type {\n",
       "        vertical-align: middle;\n",
       "    }\n",
       "\n",
       "    .dataframe tbody tr th {\n",
       "        vertical-align: top;\n",
       "    }\n",
       "\n",
       "    .dataframe thead th {\n",
       "        text-align: right;\n",
       "    }\n",
       "</style>\n",
       "<table border=\"1\" class=\"dataframe\">\n",
       "  <thead>\n",
       "    <tr style=\"text-align: right;\">\n",
       "      <th></th>\n",
       "      <th>PassengerId</th>\n",
       "      <th>Survived</th>\n",
       "      <th>Pclass</th>\n",
       "      <th>Age</th>\n",
       "      <th>SibSp</th>\n",
       "      <th>Parch</th>\n",
       "      <th>Fare</th>\n",
       "    </tr>\n",
       "  </thead>\n",
       "  <tbody>\n",
       "    <tr>\n",
       "      <th>count</th>\n",
       "      <td>891.000000</td>\n",
       "      <td>891.000000</td>\n",
       "      <td>891.000000</td>\n",
       "      <td>714.000000</td>\n",
       "      <td>891.000000</td>\n",
       "      <td>891.000000</td>\n",
       "      <td>891.000000</td>\n",
       "    </tr>\n",
       "    <tr>\n",
       "      <th>mean</th>\n",
       "      <td>446.000000</td>\n",
       "      <td>0.383838</td>\n",
       "      <td>2.308642</td>\n",
       "      <td>29.699118</td>\n",
       "      <td>0.523008</td>\n",
       "      <td>0.381594</td>\n",
       "      <td>32.204208</td>\n",
       "    </tr>\n",
       "    <tr>\n",
       "      <th>std</th>\n",
       "      <td>257.353842</td>\n",
       "      <td>0.486592</td>\n",
       "      <td>0.836071</td>\n",
       "      <td>14.526497</td>\n",
       "      <td>1.102743</td>\n",
       "      <td>0.806057</td>\n",
       "      <td>49.693429</td>\n",
       "    </tr>\n",
       "    <tr>\n",
       "      <th>min</th>\n",
       "      <td>1.000000</td>\n",
       "      <td>0.000000</td>\n",
       "      <td>1.000000</td>\n",
       "      <td>0.420000</td>\n",
       "      <td>0.000000</td>\n",
       "      <td>0.000000</td>\n",
       "      <td>0.000000</td>\n",
       "    </tr>\n",
       "    <tr>\n",
       "      <th>25%</th>\n",
       "      <td>223.500000</td>\n",
       "      <td>0.000000</td>\n",
       "      <td>2.000000</td>\n",
       "      <td>20.125000</td>\n",
       "      <td>0.000000</td>\n",
       "      <td>0.000000</td>\n",
       "      <td>7.910400</td>\n",
       "    </tr>\n",
       "    <tr>\n",
       "      <th>50%</th>\n",
       "      <td>446.000000</td>\n",
       "      <td>0.000000</td>\n",
       "      <td>3.000000</td>\n",
       "      <td>28.000000</td>\n",
       "      <td>0.000000</td>\n",
       "      <td>0.000000</td>\n",
       "      <td>14.454200</td>\n",
       "    </tr>\n",
       "    <tr>\n",
       "      <th>75%</th>\n",
       "      <td>668.500000</td>\n",
       "      <td>1.000000</td>\n",
       "      <td>3.000000</td>\n",
       "      <td>38.000000</td>\n",
       "      <td>1.000000</td>\n",
       "      <td>0.000000</td>\n",
       "      <td>31.000000</td>\n",
       "    </tr>\n",
       "    <tr>\n",
       "      <th>max</th>\n",
       "      <td>891.000000</td>\n",
       "      <td>1.000000</td>\n",
       "      <td>3.000000</td>\n",
       "      <td>80.000000</td>\n",
       "      <td>8.000000</td>\n",
       "      <td>6.000000</td>\n",
       "      <td>512.329200</td>\n",
       "    </tr>\n",
       "  </tbody>\n",
       "</table>\n",
       "</div>"
      ],
      "text/plain": [
       "       PassengerId    Survived      Pclass         Age       SibSp  \\\n",
       "count   891.000000  891.000000  891.000000  714.000000  891.000000   \n",
       "mean    446.000000    0.383838    2.308642   29.699118    0.523008   \n",
       "std     257.353842    0.486592    0.836071   14.526497    1.102743   \n",
       "min       1.000000    0.000000    1.000000    0.420000    0.000000   \n",
       "25%     223.500000    0.000000    2.000000   20.125000    0.000000   \n",
       "50%     446.000000    0.000000    3.000000   28.000000    0.000000   \n",
       "75%     668.500000    1.000000    3.000000   38.000000    1.000000   \n",
       "max     891.000000    1.000000    3.000000   80.000000    8.000000   \n",
       "\n",
       "            Parch        Fare  \n",
       "count  891.000000  891.000000  \n",
       "mean     0.381594   32.204208  \n",
       "std      0.806057   49.693429  \n",
       "min      0.000000    0.000000  \n",
       "25%      0.000000    7.910400  \n",
       "50%      0.000000   14.454200  \n",
       "75%      0.000000   31.000000  \n",
       "max      6.000000  512.329200  "
      ]
     },
     "execution_count": 110,
     "metadata": {},
     "output_type": "execute_result"
    }
   ],
   "source": [
    "traindf.describe()"
   ]
  },
  {
   "cell_type": "markdown",
   "metadata": {},
   "source": [
    "# Individual Variable Analysis"
   ]
  },
  {
   "cell_type": "markdown",
   "metadata": {},
   "source": [
    "Of note so far is the slight class imbalance of our survivors, the large amount of NaN present in Age and Cabin (and to a lesser extent Embarked) and that the test data has a single missing fare in addition to missing Ages/Cabin values. \n",
    "\n"
   ]
  },
  {
   "cell_type": "code",
   "execution_count": 111,
   "metadata": {},
   "outputs": [
    {
     "data": {
      "text/plain": [
       "<matplotlib.axes._subplots.AxesSubplot at 0x21f279f1978>"
      ]
     },
     "execution_count": 111,
     "metadata": {},
     "output_type": "execute_result"
    },
    {
     "data": {
      "image/png": "[encoded data removed]",
      "text/plain": [
       "<Figure size 1008x1152 with 2 Axes>"
      ]
     },
     "metadata": {},
     "output_type": "display_data"
    }
   ],
   "source": [
    "plt.figure(figsize=[14,16])\n",
    "sns.set()\n",
    "\n",
    "plt.subplot(331)\n",
    "sns.countplot(x=\"Pclass\", data=traindf);\n",
    "plt.subplot(332)\n",
    "sns.barplot('Pclass', 'Survived', data=traindf)"
   ]
  },
  {
   "cell_type": "markdown",
   "metadata": {},
   "source": [
    "As is to be expected, the propotion of people rescued does not evenly reflect the social/economic class of the passengers. Those of a higher economic standing (1) appear to have been prioritised in terms of safety reflected in the fact that had a survival rate of around 62% against the 'commoners' survial rate of 25%. An analysis of fares data will likely yield similar results."
   ]
  },
  {
   "cell_type": "code",
   "execution_count": 112,
   "metadata": {},
   "outputs": [
    {
     "data": {
      "text/plain": [
       "<matplotlib.axes._subplots.AxesSubplot at 0x21f27a2bba8>"
      ]
     },
     "execution_count": 112,
     "metadata": {},
     "output_type": "execute_result"
    },
    {
     "data": {
      "image/png": "[encoded data removed]",
      "text/plain": [
       "<Figure size 1008x1152 with 2 Axes>"
      ]
     },
     "metadata": {},
     "output_type": "display_data"
    }
   ],
   "source": [
    "plt.figure(figsize=[14,16])\n",
    "sns.set()\n",
    "\n",
    "plt.subplot(331)\n",
    "sns.countplot(x=\"Sex\", data=traindf);\n",
    "plt.subplot(332)\n",
    "sns.barplot('Sex', 'Survived', data=traindf)"
   ]
  },
  {
   "cell_type": "markdown",
   "metadata": {},
   "source": [
    "Similarly we can see a reflection of women being given priority when exiting the sinking ship over men. Youd also expect to see a comparitively lower rate of infant mortality on the back of this."
   ]
  },
  {
   "cell_type": "code",
   "execution_count": 113,
   "metadata": {},
   "outputs": [
    {
     "name": "stderr",
     "output_type": "stream",
     "text": [
      "C:\\Users\\Fynn\\AppData\\Local\\Programs\\Python\\Python36\\lib\\site-packages\\matplotlib\\axes\\_axes.py:6462: UserWarning: The 'normed' kwarg is deprecated, and has been replaced by the 'density' kwarg.\n",
      "  warnings.warn(\"The 'normed' kwarg is deprecated, and has been \"\n"
     ]
    },
    {
     "data": {
      "text/plain": [
       "Text(0,0.5,'Frequency')"
      ]
     },
     "execution_count": 113,
     "metadata": {},
     "output_type": "execute_result"
    },
    {
     "data": {
      "image/png": "[encoded data removed]",
      "text/plain": [
       "<Figure size 1008x1152 with 2 Axes>"
      ]
     },
     "metadata": {},
     "output_type": "display_data"
    }
   ],
   "source": [
    "survival = traindf[traindf['Survived']==1]\n",
    "plt.figure(figsize=[14,16])\n",
    "sns.set()\n",
    "\n",
    "plt.subplot(331)\n",
    "sns.distplot(traindf['Age'].dropna().values, bins=range(0, 80, 5), kde=False)\n",
    "plt.xlabel(\"Age\")\n",
    "plt.ylabel(\"Frequency\")\n",
    "\n",
    "plt.subplot(332)\n",
    "sns.distplot(survival['Age'].dropna().values, bins=range(0, 80, 5), kde=False)\n",
    "plt.xlabel(\"Age\")\n",
    "plt.ylabel(\"Frequency\")"
   ]
  },
  {
   "cell_type": "markdown",
   "metadata": {},
   "source": [
    "Albeit not the most clear to see, it appears that there was an emphasis put on saving those <10 as a propotion of total polulation. The elderly also were given precidence, perhaps due to just simply being elderly or because older people may have been of higher economic standing, correlating to our above results."
   ]
  },
  {
   "cell_type": "code",
   "execution_count": 114,
   "metadata": {},
   "outputs": [
    {
     "data": {
      "text/plain": [
       "<matplotlib.axes._subplots.AxesSubplot at 0x21f287dbe10>"
      ]
     },
     "execution_count": 114,
     "metadata": {},
     "output_type": "execute_result"
    },
    {
     "data": {
      "image/png": "[encoded data removed]",
      "text/plain": [
       "<Figure size 1008x1152 with 6 Axes>"
      ]
     },
     "metadata": {},
     "output_type": "display_data"
    }
   ],
   "source": [
    "plt.figure(figsize=[14,16])\n",
    "sns.set()\n",
    "\n",
    "plt.subplot(331)\n",
    "sns.countplot(x=\"Embarked\", data=traindf);\n",
    "plt.subplot(332)\n",
    "sns.barplot('Embarked', 'Survived', data=traindf)\n",
    "\n",
    "plt.subplot(334)\n",
    "sns.countplot(x=\"Parch\", data=traindf);\n",
    "plt.subplot(335)\n",
    "sns.barplot('Parch', 'Survived', data=traindf)\n",
    "\n",
    "plt.subplot(337)\n",
    "sns.countplot(x=\"SibSp\", data=traindf);\n",
    "plt.subplot(338)\n",
    "sns.barplot('SibSp', 'Survived', data=traindf)"
   ]
  },
  {
   "cell_type": "markdown",
   "metadata": {},
   "source": [
    "Figures for Spouses/Siblings (SibSP) and Parent/Childern (ParCh) suggests an improval of survival by being part of a 2-3 man party against those travelling alone, although the histrograms do show that there are very few examples of these cases and thus whether these effects of statistically significant could come into question. Those embarking from port C also seem to have higher survival rates, probably due to them being of wealthier backgrounds or of some other correlation - Feature relationships should be investigated."
   ]
  },
  {
   "cell_type": "markdown",
   "metadata": {},
   "source": [
    "# Feature Relationships"
   ]
  },
  {
   "cell_type": "markdown",
   "metadata": {},
   "source": [
    "Its highly likely that some of our features (or subsets of our features) are correlated or share at least some commonality."
   ]
  },
  {
   "cell_type": "code",
   "execution_count": 115,
   "metadata": {},
   "outputs": [
    {
     "data": {
      "image/png": "[encoded data removed]",
      "text/plain": [
       "<Figure size 1008x864 with 2 Axes>"
      ]
     },
     "metadata": {},
     "output_type": "display_data"
    }
   ],
   "source": [
    "plt.figure(figsize=(14,12))\n",
    "# cor = sns.heatmap(traindf.drop(['PassengerId', 'Survived'],axis=1).corr(), vmax=1, square=True, annot=True)\n",
    "cor = sns.heatmap(traindf.drop('PassengerId',axis=1).corr(), vmax=1, square=True, annot=True)"
   ]
  },
  {
   "cell_type": "markdown",
   "metadata": {},
   "source": [
    "Points of note here being the unsurprising negative corr between Ticket class and fare given how class was set up as an ordinal feature. Similar ParCh and SibSp being correlated is of no surprise to anyone. Survival and class being negatively correlated reiterates what we saw above when investigating the histrograms. Age and class correlations backup the point about elderly people having higher survival rates likely due to increased wealth. Finally +ve correlation between fare and survival lends strength to our analysis of wealth improving survival rates."
   ]
  },
  {
   "cell_type": "markdown",
   "metadata": {},
   "source": [
    "Lets take a few of the above points and delve deeper."
   ]
  },
  {
   "cell_type": "code",
   "execution_count": 116,
   "metadata": {},
   "outputs": [
    {
     "data": {
      "text/plain": [
       "<matplotlib.axes._subplots.AxesSubplot at 0x21f2868f780>"
      ]
     },
     "execution_count": 116,
     "metadata": {},
     "output_type": "execute_result"
    },
    {
     "data": {
      "image/png": "[encoded data removed]",
      "text/plain": [
       "<Figure size 432x288 with 1 Axes>"
      ]
     },
     "metadata": {},
     "output_type": "display_data"
    }
   ],
   "source": [
    "sns.violinplot(x=\"Pclass\", y=\"Age\", hue=\"Survived\", data=traindf, split=True)"
   ]
  },
  {
   "cell_type": "markdown",
   "metadata": {},
   "source": [
    "The average age of those in 1st class does appear to be significantly higher than those in 2nd or 3rd class. It also appears that once in the 1st class bracket, survival chances increased for younger passengers against old. Finally there appears to be less children in 1st class, while those children in 2nd and 3rd class did seem to be prioritised for survival."
   ]
  },
  {
   "cell_type": "code",
   "execution_count": 117,
   "metadata": {},
   "outputs": [
    {
     "name": "stderr",
     "output_type": "stream",
     "text": [
      "C:\\Users\\Fynn\\AppData\\Local\\Programs\\Python\\Python36\\lib\\site-packages\\matplotlib\\axes\\_axes.py:6462: UserWarning: The 'normed' kwarg is deprecated, and has been replaced by the 'density' kwarg.\n",
      "  warnings.warn(\"The 'normed' kwarg is deprecated, and has been \"\n"
     ]
    },
    {
     "data": {
      "text/plain": [
       "Text(0.5,0,'Female Death Age')"
      ]
     },
     "execution_count": 117,
     "metadata": {},
     "output_type": "execute_result"
    },
    {
     "data": {
      "image/png": "[encoded data removed]",
      "text/plain": [
       "<Figure size 1008x864 with 4 Axes>"
      ]
     },
     "metadata": {},
     "output_type": "display_data"
    }
   ],
   "source": [
    "survm = traindf[(traindf['Sex']=='male') & (traindf['Survived']==1)]\n",
    "survf = traindf[(traindf['Sex']=='female') & (traindf['Survived']==1)]\n",
    "nosurvm = traindf[(traindf['Sex']=='male') & (traindf['Survived']==0)]\n",
    "nosurvf = traindf[(traindf['Sex']=='female') & (traindf['Survived']==0)]\n",
    "\n",
    "plt.figure(figsize=(14,12))\n",
    "plt.subplot(331)\n",
    "sns.distplot(survm['Age'].dropna().values,bins=range(0, 80, 5), kde=False)\n",
    "plt.xlabel('Male Survival Age')\n",
    "plt.ylabel('Frequency')\n",
    "plt.subplot(332)\n",
    "sns.distplot(nosurvm['Age'].dropna().values,bins=range(0, 80, 5), kde=False)\n",
    "plt.xlabel('Male Death Age')\n",
    "plt.subplot(334)\n",
    "sns.distplot(survf['Age'].dropna().values,bins=range(0, 80, 5), kde=False)\n",
    "plt.xlabel('Female Survival Age')\n",
    "plt.ylabel('Frequency')\n",
    "plt.subplot(335)\n",
    "sns.distplot(nosurvf['Age'].dropna().values,bins=range(0, 80, 5), kde=False)\n",
    "plt.xlabel('Female Death Age')\n"
   ]
  },
  {
   "cell_type": "markdown",
   "metadata": {},
   "source": [
    "Significant differences between male and female survival rates. In addition we again can see the prioritising of children for survival."
   ]
  },
  {
   "cell_type": "markdown",
   "metadata": {},
   "source": [
    "It would appear at this point that 3 main characterstics seem to influence whether an individual survived aboard the Titanic; Age, Gender and Wealth. Factors like which port you embarked from are unlikely in themselves to aid in your survival, but rather if embarking from a certain port made it more likely that you correlated to one of the above features (namely wealth)."
   ]
  },
  {
   "cell_type": "markdown",
   "metadata": {},
   "source": [
    "# Feature Engineering"
   ]
  },
  {
   "cell_type": "markdown",
   "metadata": {},
   "source": [
    "The following is a list of features that we can engineer from exisiting features, to try and more specifically identify the elements that contribute to survival. We can examine each ones motivation and effect individually afterward. \n",
    "\n",
    "Some of the factors which have been investigated and found to be strongly correlated to our already identified effects have been ommitted for berevities sake. Some of these include:\n",
    "\n",
    "- Large families negatively affecting survival as a result of primarily being in 3rd class.\n",
    "- Certain embarking docks having higher survival rates due to having wealthier/female embarkers."
   ]
  },
  {
   "cell_type": "code",
   "execution_count": 118,
   "metadata": {
    "scrolled": true
   },
   "outputs": [
    {
     "name": "stderr",
     "output_type": "stream",
     "text": [
      "C:\\Users\\Fynn\\AppData\\Local\\Programs\\Python\\Python36\\lib\\site-packages\\pandas\\core\\indexing.py:189: SettingWithCopyWarning: \n",
      "A value is trying to be set on a copy of a slice from a DataFrame\n",
      "\n",
      "See the caveats in the documentation: http://pandas.pydata.org/pandas-docs/stable/indexing.html#indexing-view-versus-copy\n",
      "  self._setitem_with_indexer(indexer, value)\n"
     ]
    }
   ],
   "source": [
    "# Split into feature set and Y vector, Apply across training and test samples\n",
    "combine = pd.concat([traindf.drop('Survived',1),testdf])\n",
    "# Input median for single missing value in test fare feature\n",
    "combine['Fare'].iloc[1043] = combine['Fare'][combine['Pclass'] == 3].dropna().median()\n",
    "combine['Embarked'].iloc[61] = \"C\"\n",
    "combine['Embarked'].iloc[829] = \"C\"\n",
    "survived = traindf['Survived']\n",
    "\n",
    "\n",
    "# New Variable Engineering \n",
    "combine['Child'] = combine['Age']<=10\n",
    "combine['Cabin_known'] = combine['Cabin'].isnull() == False\n",
    "combine['Age_known'] = combine['Age'].isnull() == False\n",
    "combine['Family'] = combine['SibSp'] + combine['Parch']\n",
    "combine['Alone']  = (combine['SibSp'] + combine['Parch']) == 0\n",
    "combine['Large_Family'] = (combine['SibSp']>2) | (combine['Parch']>3)\n",
    "combine['Deck'] = combine['Cabin'].str[0]\n",
    "combine['Deck'] = combine['Deck'].fillna(value='U')\n",
    "# Name Format : Surname, Title. Forenames hence isolate string between , and .\n",
    "# Split first into 2 elements seperated by , then again into 2 seperated by . then take first element\n",
    "combine['Title'] = combine['Name'].str.split(\", \", expand=True)[1].str.split(\".\", expand=True)[0]\n",
    "combine['Young'] = (combine['Age']<=30) | (combine['Title'].isin(['Master','Miss','Mlle']))\n",
    "combine['Ticket_group'] = combine.groupby('Ticket')['Name'].transform('count')\n",
    "combine['Fare_cat'] = pd.DataFrame(np.floor(np.log10(combine['Fare'] + 1))).astype('int')\n",
    "combine['Fare_eff'] = combine['Fare']/combine['Ticket_group']\n",
    "combine['Fare_eff_cat'] = np.where(combine['Fare_eff']>16.0, 2, 1)\n",
    "combine['Fare_eff_cat'] = np.where(combine['Fare_eff']<8.5,0,combine['Fare_eff_cat'])"
   ]
  },
  {
   "cell_type": "code",
   "execution_count": 119,
   "metadata": {},
   "outputs": [
    {
     "data": {
      "text/html": [
       "<div>\n",
       "<style scoped>\n",
       "    .dataframe tbody tr th:only-of-type {\n",
       "        vertical-align: middle;\n",
       "    }\n",
       "\n",
       "    .dataframe tbody tr th {\n",
       "        vertical-align: top;\n",
       "    }\n",
       "\n",
       "    .dataframe thead th {\n",
       "        text-align: right;\n",
       "    }\n",
       "</style>\n",
       "<table border=\"1\" class=\"dataframe\">\n",
       "  <thead>\n",
       "    <tr style=\"text-align: right;\">\n",
       "      <th></th>\n",
       "      <th>PassengerId</th>\n",
       "      <th>Pclass</th>\n",
       "      <th>Name</th>\n",
       "      <th>Sex</th>\n",
       "      <th>Age</th>\n",
       "      <th>SibSp</th>\n",
       "      <th>Parch</th>\n",
       "      <th>Ticket</th>\n",
       "      <th>Fare</th>\n",
       "      <th>Cabin</th>\n",
       "      <th>...</th>\n",
       "      <th>Family</th>\n",
       "      <th>Alone</th>\n",
       "      <th>Large_Family</th>\n",
       "      <th>Deck</th>\n",
       "      <th>Title</th>\n",
       "      <th>Young</th>\n",
       "      <th>Ticket_group</th>\n",
       "      <th>Fare_cat</th>\n",
       "      <th>Fare_eff</th>\n",
       "      <th>Fare_eff_cat</th>\n",
       "    </tr>\n",
       "  </thead>\n",
       "  <tbody>\n",
       "    <tr>\n",
       "      <th>0</th>\n",
       "      <td>1</td>\n",
       "      <td>3</td>\n",
       "      <td>Braund, Mr. Owen Harris</td>\n",
       "      <td>male</td>\n",
       "      <td>22.0</td>\n",
       "      <td>1</td>\n",
       "      <td>0</td>\n",
       "      <td>A/5 21171</td>\n",
       "      <td>7.2500</td>\n",
       "      <td>NaN</td>\n",
       "      <td>...</td>\n",
       "      <td>1</td>\n",
       "      <td>False</td>\n",
       "      <td>False</td>\n",
       "      <td>U</td>\n",
       "      <td>Mr</td>\n",
       "      <td>True</td>\n",
       "      <td>1</td>\n",
       "      <td>0</td>\n",
       "      <td>7.25000</td>\n",
       "      <td>0</td>\n",
       "    </tr>\n",
       "    <tr>\n",
       "      <th>1</th>\n",
       "      <td>2</td>\n",
       "      <td>1</td>\n",
       "      <td>Cumings, Mrs. John Bradley (Florence Briggs Th...</td>\n",
       "      <td>female</td>\n",
       "      <td>38.0</td>\n",
       "      <td>1</td>\n",
       "      <td>0</td>\n",
       "      <td>PC 17599</td>\n",
       "      <td>71.2833</td>\n",
       "      <td>C85</td>\n",
       "      <td>...</td>\n",
       "      <td>1</td>\n",
       "      <td>False</td>\n",
       "      <td>False</td>\n",
       "      <td>C</td>\n",
       "      <td>Mrs</td>\n",
       "      <td>False</td>\n",
       "      <td>2</td>\n",
       "      <td>1</td>\n",
       "      <td>35.64165</td>\n",
       "      <td>2</td>\n",
       "    </tr>\n",
       "    <tr>\n",
       "      <th>2</th>\n",
       "      <td>3</td>\n",
       "      <td>3</td>\n",
       "      <td>Heikkinen, Miss. Laina</td>\n",
       "      <td>female</td>\n",
       "      <td>26.0</td>\n",
       "      <td>0</td>\n",
       "      <td>0</td>\n",
       "      <td>STON/O2. 3101282</td>\n",
       "      <td>7.9250</td>\n",
       "      <td>NaN</td>\n",
       "      <td>...</td>\n",
       "      <td>0</td>\n",
       "      <td>True</td>\n",
       "      <td>False</td>\n",
       "      <td>U</td>\n",
       "      <td>Miss</td>\n",
       "      <td>True</td>\n",
       "      <td>1</td>\n",
       "      <td>0</td>\n",
       "      <td>7.92500</td>\n",
       "      <td>0</td>\n",
       "    </tr>\n",
       "    <tr>\n",
       "      <th>3</th>\n",
       "      <td>4</td>\n",
       "      <td>1</td>\n",
       "      <td>Futrelle, Mrs. Jacques Heath (Lily May Peel)</td>\n",
       "      <td>female</td>\n",
       "      <td>35.0</td>\n",
       "      <td>1</td>\n",
       "      <td>0</td>\n",
       "      <td>113803</td>\n",
       "      <td>53.1000</td>\n",
       "      <td>C123</td>\n",
       "      <td>...</td>\n",
       "      <td>1</td>\n",
       "      <td>False</td>\n",
       "      <td>False</td>\n",
       "      <td>C</td>\n",
       "      <td>Mrs</td>\n",
       "      <td>False</td>\n",
       "      <td>2</td>\n",
       "      <td>1</td>\n",
       "      <td>26.55000</td>\n",
       "      <td>2</td>\n",
       "    </tr>\n",
       "    <tr>\n",
       "      <th>4</th>\n",
       "      <td>5</td>\n",
       "      <td>3</td>\n",
       "      <td>Allen, Mr. William Henry</td>\n",
       "      <td>male</td>\n",
       "      <td>35.0</td>\n",
       "      <td>0</td>\n",
       "      <td>0</td>\n",
       "      <td>373450</td>\n",
       "      <td>8.0500</td>\n",
       "      <td>NaN</td>\n",
       "      <td>...</td>\n",
       "      <td>0</td>\n",
       "      <td>True</td>\n",
       "      <td>False</td>\n",
       "      <td>U</td>\n",
       "      <td>Mr</td>\n",
       "      <td>False</td>\n",
       "      <td>1</td>\n",
       "      <td>0</td>\n",
       "      <td>8.05000</td>\n",
       "      <td>0</td>\n",
       "    </tr>\n",
       "  </tbody>\n",
       "</table>\n",
       "<p>5 rows × 24 columns</p>\n",
       "</div>"
      ],
      "text/plain": [
       "   PassengerId  Pclass                                               Name  \\\n",
       "0            1       3                            Braund, Mr. Owen Harris   \n",
       "1            2       1  Cumings, Mrs. John Bradley (Florence Briggs Th...   \n",
       "2            3       3                             Heikkinen, Miss. Laina   \n",
       "3            4       1       Futrelle, Mrs. Jacques Heath (Lily May Peel)   \n",
       "4            5       3                           Allen, Mr. William Henry   \n",
       "\n",
       "      Sex   Age  SibSp  Parch            Ticket     Fare Cabin      ...       \\\n",
       "0    male  22.0      1      0         A/5 21171   7.2500   NaN      ...        \n",
       "1  female  38.0      1      0          PC 17599  71.2833   C85      ...        \n",
       "2  female  26.0      0      0  STON/O2. 3101282   7.9250   NaN      ...        \n",
       "3  female  35.0      1      0            113803  53.1000  C123      ...        \n",
       "4    male  35.0      0      0            373450   8.0500   NaN      ...        \n",
       "\n",
       "  Family  Alone  Large_Family  Deck  Title  Young  Ticket_group Fare_cat  \\\n",
       "0      1  False         False     U     Mr   True             1        0   \n",
       "1      1  False         False     C    Mrs  False             2        1   \n",
       "2      0   True         False     U   Miss   True             1        0   \n",
       "3      1  False         False     C    Mrs  False             2        1   \n",
       "4      0   True         False     U     Mr  False             1        0   \n",
       "\n",
       "   Fare_eff  Fare_eff_cat  \n",
       "0   7.25000             0  \n",
       "1  35.64165             2  \n",
       "2   7.92500             0  \n",
       "3  26.55000             2  \n",
       "4   8.05000             0  \n",
       "\n",
       "[5 rows x 24 columns]"
      ]
     },
     "execution_count": 119,
     "metadata": {},
     "output_type": "execute_result"
    }
   ],
   "source": [
    "combine.head()"
   ]
  },
  {
   "cell_type": "markdown",
   "metadata": {},
   "source": [
    "For use in upcoming supervised techniques we should also convert string based features to integers."
   ]
  },
  {
   "cell_type": "code",
   "execution_count": 123,
   "metadata": {},
   "outputs": [
    {
     "name": "stderr",
     "output_type": "stream",
     "text": [
      "C:\\Users\\Fynn\\AppData\\Local\\Programs\\Python\\Python36\\lib\\site-packages\\ipykernel_launcher.py:14: SettingWithCopyWarning: \n",
      "A value is trying to be set on a copy of a slice from a DataFrame.\n",
      "Try using .loc[row_indexer,col_indexer] = value instead\n",
      "\n",
      "See the caveats in the documentation: http://pandas.pydata.org/pandas-docs/stable/indexing.html#indexing-view-versus-copy\n",
      "  \n"
     ]
    }
   ],
   "source": [
    "combine[\"Sex\"] = combine[\"Sex\"].astype(\"category\")\n",
    "combine[\"Sex\"].cat.categories = [0,1]\n",
    "combine[\"Sex\"] = combine[\"Sex\"].astype(\"int\")\n",
    "combine[\"Embarked\"] = combine[\"Embarked\"].astype(\"category\")\n",
    "combine[\"Embarked\"].cat.categories = [0,1,2]\n",
    "combine[\"Embarked\"] = combine[\"Embarked\"].astype(\"int\")\n",
    "combine[\"Deck\"] = combine[\"Deck\"].astype(\"category\")\n",
    "combine[\"Deck\"].cat.categories = [0,1,2,3,4,5,6,7,8]\n",
    "combine[\"Deck\"] = combine[\"Deck\"].astype(\"int\")\n",
    "\n",
    "# Resplit train/test\n",
    "test = combine.iloc[len(traindf):]\n",
    "train = combine.iloc[:len(traindf)]\n",
    "train['Survived'] = survived\n",
    "\n",
    "# Cross Validation Split on Training\n",
    "training = train.iloc[:712]\n",
    "valid = train.iloc[712:]"
   ]
  },
  {
   "cell_type": "markdown",
   "metadata": {},
   "source": [
    "# Model Selection"
   ]
  },
  {
   "cell_type": "markdown",
   "metadata": {},
   "source": [
    "Now that we have identified a number of explanatory features as well as expanded our feature set in pursuit of more descriptive features we can begin building a selection of models that best fit our dataset. "
   ]
  },
  {
   "cell_type": "code",
   "execution_count": 125,
   "metadata": {},
   "outputs": [],
   "source": [
    "cols = ['Sex','Pclass','Cabin_known','Large_Family','Young','Alone','Child']\n",
    "tcols = np.append(['Survived'],cols)\n",
    "\n",
    "df = training.loc[:,tcols].dropna()\n",
    "X = df.loc[:,cols]\n",
    "y = np.ravel(df.loc[:,['Survived']])\n",
    "\n",
    "df_valid = valid.loc[:,tcols].dropna()\n",
    "X_test = df_valid.loc[:,cols]\n",
    "y_test = np.ravel(df_valid.loc[:,['Survived']])"
   ]
  },
  {
   "cell_type": "code",
   "execution_count": 137,
   "metadata": {},
   "outputs": [
    {
     "name": "stdout",
     "output_type": "stream",
     "text": [
      "[0.8041958  0.79020979 0.84615385 0.80985915 0.77304965]\n",
      "0.8046936481758177\n"
     ]
    }
   ],
   "source": [
    "model_log = LogisticRegression()\n",
    "model_log = model_log.fit(X,y)\n",
    "score_log = cross_val_score(model_log, X, y, cv=5).mean()\n",
    "scores_log = cross_val_score(model_log, X, y, cv=5)\n",
    "print(scores_log)\n",
    "print(score_log)"
   ]
  },
  {
   "cell_type": "code",
   "execution_count": 129,
   "metadata": {},
   "outputs": [
    {
     "name": "stdout",
     "output_type": "stream",
     "text": [
      "0.7029230783201414\n"
     ]
    },
    {
     "name": "stderr",
     "output_type": "stream",
     "text": [
      "C:\\Users\\Fynn\\AppData\\Local\\Programs\\Python\\Python36\\lib\\site-packages\\sklearn\\linear_model\\stochastic_gradient.py:128: FutureWarning: max_iter and tol parameters have been added in <class 'sklearn.linear_model.perceptron.Perceptron'> in 0.19. If both are left unset, they default to max_iter=5 and tol=None. If tol is not None, max_iter defaults to max_iter=1000. From 0.21, default max_iter will be 1000, and default tol will be 1e-3.\n",
      "  \"and default tol will be 1e-3.\" % type(self), FutureWarning)\n",
      "C:\\Users\\Fynn\\AppData\\Local\\Programs\\Python\\Python36\\lib\\site-packages\\sklearn\\linear_model\\stochastic_gradient.py:128: FutureWarning: max_iter and tol parameters have been added in <class 'sklearn.linear_model.perceptron.Perceptron'> in 0.19. If both are left unset, they default to max_iter=5 and tol=None. If tol is not None, max_iter defaults to max_iter=1000. From 0.21, default max_iter will be 1000, and default tol will be 1e-3.\n",
      "  \"and default tol will be 1e-3.\" % type(self), FutureWarning)\n",
      "C:\\Users\\Fynn\\AppData\\Local\\Programs\\Python\\Python36\\lib\\site-packages\\sklearn\\linear_model\\stochastic_gradient.py:128: FutureWarning: max_iter and tol parameters have been added in <class 'sklearn.linear_model.perceptron.Perceptron'> in 0.19. If both are left unset, they default to max_iter=5 and tol=None. If tol is not None, max_iter defaults to max_iter=1000. From 0.21, default max_iter will be 1000, and default tol will be 1e-3.\n",
      "  \"and default tol will be 1e-3.\" % type(self), FutureWarning)\n",
      "C:\\Users\\Fynn\\AppData\\Local\\Programs\\Python\\Python36\\lib\\site-packages\\sklearn\\linear_model\\stochastic_gradient.py:128: FutureWarning: max_iter and tol parameters have been added in <class 'sklearn.linear_model.perceptron.Perceptron'> in 0.19. If both are left unset, they default to max_iter=5 and tol=None. If tol is not None, max_iter defaults to max_iter=1000. From 0.21, default max_iter will be 1000, and default tol will be 1e-3.\n",
      "  \"and default tol will be 1e-3.\" % type(self), FutureWarning)\n",
      "C:\\Users\\Fynn\\AppData\\Local\\Programs\\Python\\Python36\\lib\\site-packages\\sklearn\\linear_model\\stochastic_gradient.py:128: FutureWarning: max_iter and tol parameters have been added in <class 'sklearn.linear_model.perceptron.Perceptron'> in 0.19. If both are left unset, they default to max_iter=5 and tol=None. If tol is not None, max_iter defaults to max_iter=1000. From 0.21, default max_iter will be 1000, and default tol will be 1e-3.\n",
      "  \"and default tol will be 1e-3.\" % type(self), FutureWarning)\n",
      "C:\\Users\\Fynn\\AppData\\Local\\Programs\\Python\\Python36\\lib\\site-packages\\sklearn\\linear_model\\stochastic_gradient.py:128: FutureWarning: max_iter and tol parameters have been added in <class 'sklearn.linear_model.perceptron.Perceptron'> in 0.19. If both are left unset, they default to max_iter=5 and tol=None. If tol is not None, max_iter defaults to max_iter=1000. From 0.21, default max_iter will be 1000, and default tol will be 1e-3.\n",
      "  \"and default tol will be 1e-3.\" % type(self), FutureWarning)\n"
     ]
    }
   ],
   "source": [
    "model_pctr = Perceptron(class_weight='balanced')\n",
    "model_pctr = model_pctr.fit(X,y)\n",
    "score_pctr = cross_val_score(model_pctr, X, y, cv=5).mean()\n",
    "print(score_pctr)"
   ]
  },
  {
   "cell_type": "code",
   "execution_count": 130,
   "metadata": {},
   "outputs": [
    {
     "name": "stdout",
     "output_type": "stream",
     "text": [
      "0.7780508573436353\n"
     ]
    }
   ],
   "source": [
    "model_knn = KNeighborsClassifier(n_neighbors=10, weights='distance')\n",
    "model_knn = model_knn.fit(X,y)\n",
    "score_knn = cross_val_score(model_knn, X, y, cv=5).mean()\n",
    "print(score_knn)"
   ]
  },
  {
   "cell_type": "code",
   "execution_count": 138,
   "metadata": {},
   "outputs": [
    {
     "name": "stdout",
     "output_type": "stream",
     "text": [
      "0.7879213483146067\n"
     ]
    }
   ],
   "source": [
    "bagging = BaggingClassifier(\n",
    "    KNeighborsClassifier(n_neighbors=2, weights='distance'),\n",
    "    oob_score=True, max_samples=0.5, max_features=1.0\n",
    "                            )\n",
    "model_bag = bagging.fit(X,y)\n",
    "score_bag = model_bag.oob_score_\n",
    "print(score_bag)"
   ]
  },
  {
   "cell_type": "code",
   "execution_count": 139,
   "metadata": {},
   "outputs": [
    {
     "name": "stdout",
     "output_type": "stream",
     "text": [
      "0.8061417755154645\n"
     ]
    }
   ],
   "source": [
    "model_svm = svm.SVC(class_weight='balanced')\n",
    "model_svm.fit(X, y)\n",
    "score_svm = cross_val_score(model_svm, X, y, cv=5).mean()\n",
    "print(score_svm)"
   ]
  },
  {
   "cell_type": "code",
   "execution_count": 133,
   "metadata": {},
   "outputs": [
    {
     "name": "stdout",
     "output_type": "stream",
     "text": [
      "0.7907277519204399\n"
     ]
    }
   ],
   "source": [
    "model_tree = tree.DecisionTreeClassifier(class_weight=\"balanced\",min_weight_fraction_leaf=0.01)\n",
    "model_tree = model_tree.fit(X,y)\n",
    "score_tree = cross_val_score(model_tree, X, y, cv=5).mean()\n",
    "print(score_tree)"
   ]
  },
  {
   "cell_type": "code",
   "execution_count": 148,
   "metadata": {},
   "outputs": [
    {
     "name": "stdout",
     "output_type": "stream",
     "text": [
      "0.8019162836963257\n"
     ]
    }
   ],
   "source": [
    "model_rf = RandomForestClassifier(\n",
    "    n_estimators=1000, \\\n",
    "    max_depth=None, \\\n",
    "    min_samples_split=10 \\\n",
    "    )\n",
    "model_rf = model_rf.fit(X,y)\n",
    "score_rf = cross_val_score(model_rf, X, y, cv=5).mean()\n",
    "print(score_rf)"
   ]
  },
  {
   "cell_type": "markdown",
   "metadata": {},
   "source": [
    "# Model Ranking and Prediction"
   ]
  },
  {
   "cell_type": "code",
   "execution_count": 142,
   "metadata": {},
   "outputs": [
    {
     "data": {
      "text/html": [
       "<div>\n",
       "<style scoped>\n",
       "    .dataframe tbody tr th:only-of-type {\n",
       "        vertical-align: middle;\n",
       "    }\n",
       "\n",
       "    .dataframe tbody tr th {\n",
       "        vertical-align: top;\n",
       "    }\n",
       "\n",
       "    .dataframe thead th {\n",
       "        text-align: right;\n",
       "    }\n",
       "</style>\n",
       "<table border=\"1\" class=\"dataframe\">\n",
       "  <thead>\n",
       "    <tr style=\"text-align: right;\">\n",
       "      <th></th>\n",
       "      <th>Model</th>\n",
       "      <th>Score</th>\n",
       "    </tr>\n",
       "  </thead>\n",
       "  <tbody>\n",
       "    <tr>\n",
       "      <th>0</th>\n",
       "      <td>SVM</td>\n",
       "      <td>0.806142</td>\n",
       "    </tr>\n",
       "    <tr>\n",
       "      <th>5</th>\n",
       "      <td>Logistic Regression</td>\n",
       "      <td>0.804694</td>\n",
       "    </tr>\n",
       "    <tr>\n",
       "      <th>3</th>\n",
       "      <td>Random Forest</td>\n",
       "      <td>0.800518</td>\n",
       "    </tr>\n",
       "    <tr>\n",
       "      <th>6</th>\n",
       "      <td>Decision Tree</td>\n",
       "      <td>0.790728</td>\n",
       "    </tr>\n",
       "    <tr>\n",
       "      <th>4</th>\n",
       "      <td>Bagged KNN</td>\n",
       "      <td>0.787921</td>\n",
       "    </tr>\n",
       "    <tr>\n",
       "      <th>1</th>\n",
       "      <td>KNN</td>\n",
       "      <td>0.778051</td>\n",
       "    </tr>\n",
       "    <tr>\n",
       "      <th>2</th>\n",
       "      <td>Perceptron</td>\n",
       "      <td>0.702923</td>\n",
       "    </tr>\n",
       "  </tbody>\n",
       "</table>\n",
       "</div>"
      ],
      "text/plain": [
       "                 Model     Score\n",
       "0                  SVM  0.806142\n",
       "5  Logistic Regression  0.804694\n",
       "3        Random Forest  0.800518\n",
       "6        Decision Tree  0.790728\n",
       "4           Bagged KNN  0.787921\n",
       "1                  KNN  0.778051\n",
       "2           Perceptron  0.702923"
      ]
     },
     "execution_count": 142,
     "metadata": {},
     "output_type": "execute_result"
    }
   ],
   "source": [
    "comp = pd.DataFrame({\n",
    "    'Model' : ['SVM', 'KNN', 'Perceptron', 'Random Forest', 'Bagged KNN',\n",
    "              'Logistic Regression', 'Decision Tree'],\n",
    "    'Score' : [score_svm, score_knn, score_pctr, score_rf, score_bag,\n",
    "              score_log, score_tree]})\n",
    "comp.sort_values(by='Score', ascending=False)"
   ]
  },
  {
   "cell_type": "code",
   "execution_count": 155,
   "metadata": {},
   "outputs": [],
   "source": [
    "model_svm = svm.SVC(class_weight='balanced')\n",
    "model_svm.fit(X,y)\n",
    "test_df=test.loc[:,cols].fillna(method='pad')\n",
    "subm = model_svm.predict(test_df)"
   ]
  },
  {
   "cell_type": "code",
   "execution_count": 156,
   "metadata": {},
   "outputs": [],
   "source": [
    "submission = pd.DataFrame({\n",
    "    'PassengerId' : test.loc[:,'PassengerId'],\n",
    "    'Survived' : subm.T})\n",
    "submission.to_csv('submit.csv', index=False)"
   ]
  }
 ],
 "metadata": {
  "kernelspec": {
   "display_name": "Python 3",
   "language": "python",
   "name": "python3"
  },
  "language_info": {
   "codemirror_mode": {
    "name": "ipython",
    "version": 3
   },
   "file_extension": ".py",
   "mimetype": "text/x-python",
   "name": "python",
   "nbconvert_exporter": "python",
   "pygments_lexer": "ipython3",
   "version": "3.6.5"
  }
 },
 "nbformat": 4,
 "nbformat_minor": 2
}
